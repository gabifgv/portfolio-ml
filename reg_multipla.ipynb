{
 "cells": [
  {
   "cell_type": "markdown",
   "id": "1bdd0926",
   "metadata": {},
   "source": [
    "## Exercício de Regressão Múltipla – Happiness Dataset\n",
    "\n",
    "O banco de dados “happiness.xls” contém dados de grau de felicidade de 122 países.\n",
    "Objetivo: prever o escore de felicidade com base nas variáveis:\n",
    "- Hemisfério\n",
    "- HDI\n",
    "- GDP per capita\n",
    "- Consumo de cerveja, álcool e vinho per capita"
   ]
  },
  {
   "cell_type": "code",
   "execution_count": 2,
   "id": "f7042a9a",
   "metadata": {},
   "outputs": [],
   "source": [
    "# Importando pacotes\n",
    "\n",
    "import pandas as pd\n",
    "import numpy as np\n",
    "from sklearn.model_selection import train_test_split\n",
    "from sklearn.linear_model import LinearRegression\n",
    "from sklearn.metrics import mean_absolute_error, mean_squared_error, r2_score\n",
    "import matplotlib.pyplot as plt\n",
    "\n"
   ]
  }
 ],
 "metadata": {
  "kernelspec": {
   "display_name": "Python 3",
   "language": "python",
   "name": "python3"
  },
  "language_info": {
   "codemirror_mode": {
    "name": "ipython",
    "version": 3
   },
   "file_extension": ".py",
   "mimetype": "text/x-python",
   "name": "python",
   "nbconvert_exporter": "python",
   "pygments_lexer": "ipython3",
   "version": "3.12.4"
  }
 },
 "nbformat": 4,
 "nbformat_minor": 5
}
